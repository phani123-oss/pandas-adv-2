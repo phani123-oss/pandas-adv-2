{
 "cells": [
  {
   "cell_type": "code",
   "execution_count": 3,
   "id": "96c5bd8e-ddb9-44de-826f-37ba8b3cd0f3",
   "metadata": {},
   "outputs": [],
   "source": [
    "#given code\n",
    "import pandas as pd\n",
    "course_name = ['Data Science', 'Machine Learning', 'Big Data', 'Data Engineer']\n",
    "duration = [2,3,6,4]\n",
    "df = pd.DataFrame(data = {'course_name' : course_name, 'duration' : duration})"
   ]
  },
  {
   "cell_type": "code",
   "execution_count": 4,
   "id": "2a7bc1e4-7d3d-4186-abcc-b3789ccb6b39",
   "metadata": {},
   "outputs": [
    {
     "data": {
      "text/html": [
       "<div>\n",
       "<style scoped>\n",
       "    .dataframe tbody tr th:only-of-type {\n",
       "        vertical-align: middle;\n",
       "    }\n",
       "\n",
       "    .dataframe tbody tr th {\n",
       "        vertical-align: top;\n",
       "    }\n",
       "\n",
       "    .dataframe thead th {\n",
       "        text-align: right;\n",
       "    }\n",
       "</style>\n",
       "<table border=\"1\" class=\"dataframe\">\n",
       "  <thead>\n",
       "    <tr style=\"text-align: right;\">\n",
       "      <th></th>\n",
       "      <th>course_name</th>\n",
       "      <th>duration</th>\n",
       "    </tr>\n",
       "  </thead>\n",
       "  <tbody>\n",
       "    <tr>\n",
       "      <th>0</th>\n",
       "      <td>Data Science</td>\n",
       "      <td>2</td>\n",
       "    </tr>\n",
       "    <tr>\n",
       "      <th>1</th>\n",
       "      <td>Machine Learning</td>\n",
       "      <td>3</td>\n",
       "    </tr>\n",
       "    <tr>\n",
       "      <th>2</th>\n",
       "      <td>Big Data</td>\n",
       "      <td>6</td>\n",
       "    </tr>\n",
       "    <tr>\n",
       "      <th>3</th>\n",
       "      <td>Data Engineer</td>\n",
       "      <td>4</td>\n",
       "    </tr>\n",
       "  </tbody>\n",
       "</table>\n",
       "</div>"
      ],
      "text/plain": [
       "        course_name  duration\n",
       "0      Data Science         2\n",
       "1  Machine Learning         3\n",
       "2          Big Data         6\n",
       "3     Data Engineer         4"
      ]
     },
     "execution_count": 4,
     "metadata": {},
     "output_type": "execute_result"
    }
   ],
   "source": [
    "df"
   ]
  },
  {
   "cell_type": "code",
   "execution_count": 7,
   "id": "152515cc-4e38-4e24-9f2a-41e772a0e47c",
   "metadata": {},
   "outputs": [
    {
     "name": "stdout",
     "output_type": "stream",
     "text": [
      "The data present in the second ro of given dataframe is: \n"
     ]
    },
    {
     "data": {
      "text/plain": [
       "course_name    Machine Learning\n",
       "duration                      3\n",
       "Name: 1, dtype: object"
      ]
     },
     "execution_count": 7,
     "metadata": {},
     "output_type": "execute_result"
    }
   ],
   "source": [
    "#Q1. Write a code to print the data present in the second row of the dataframe, df.\n",
    "\n",
    "#For printing second row we use loc function which is inbuilt function\n",
    "#to specifiy row/column. loc works on both index and objects whereas, iloc works on \n",
    "#integer position based only\n",
    "print(\"The data present in the second ro of given dataframe is: \")\n",
    "df.loc[1]"
   ]
  },
  {
   "cell_type": "code",
   "execution_count": 8,
   "id": "076a761b-ad1e-458e-b944-7b8ccf98def7",
   "metadata": {},
   "outputs": [
    {
     "data": {
      "text/plain": [
       "'The main distinction between loc and iloc is: loc is label-based, \\nwhich means that you have to specify rows and columns based on their \\nrow and column labels. iloc is integer position-based, \\nso we have to specify rows and columns by their integer position values (0-based integer position)'"
      ]
     },
     "execution_count": 8,
     "metadata": {},
     "output_type": "execute_result"
    }
   ],
   "source": [
    "#Q2. What is the difference between the functions loc and iloc in pandas.DataFrame?\n",
    "'''The main distinction between loc and iloc is: loc is label-based, \n",
    "which means that we have to specify rows and columns based on their \n",
    "row and column labels. iloc is integer position-based, \n",
    "so we have to specify rows and columns by their integer position values (0-based integer position)'''"
   ]
  },
  {
   "cell_type": "code",
   "execution_count": 9,
   "id": "69df0f99-069b-4f3d-8073-cd9c3581a627",
   "metadata": {},
   "outputs": [],
   "source": [
    "'''Q3. Reindex the given dataframe using a variable, reindex = [3,0,1,2] and store it in the variable, new_df\n",
    "then find the output for both new_df.loc[2] and new_df.iloc[2].\n",
    "Did you observe any difference in both the outputs? If so then explain it.\n"
   ]
  },
  {
   "cell_type": "code",
   "execution_count": 11,
   "id": "f379a56d-f691-4762-9b83-5af0c97e4dbe",
   "metadata": {},
   "outputs": [
    {
     "data": {
      "text/html": [
       "<div>\n",
       "<style scoped>\n",
       "    .dataframe tbody tr th:only-of-type {\n",
       "        vertical-align: middle;\n",
       "    }\n",
       "\n",
       "    .dataframe tbody tr th {\n",
       "        vertical-align: top;\n",
       "    }\n",
       "\n",
       "    .dataframe thead th {\n",
       "        text-align: right;\n",
       "    }\n",
       "</style>\n",
       "<table border=\"1\" class=\"dataframe\">\n",
       "  <thead>\n",
       "    <tr style=\"text-align: right;\">\n",
       "      <th></th>\n",
       "      <th>course_name</th>\n",
       "      <th>duration</th>\n",
       "    </tr>\n",
       "  </thead>\n",
       "  <tbody>\n",
       "    <tr>\n",
       "      <th>0</th>\n",
       "      <td>Data Science</td>\n",
       "      <td>2</td>\n",
       "    </tr>\n",
       "    <tr>\n",
       "      <th>1</th>\n",
       "      <td>Machine Learning</td>\n",
       "      <td>3</td>\n",
       "    </tr>\n",
       "    <tr>\n",
       "      <th>2</th>\n",
       "      <td>Big Data</td>\n",
       "      <td>6</td>\n",
       "    </tr>\n",
       "    <tr>\n",
       "      <th>3</th>\n",
       "      <td>Data Engineer</td>\n",
       "      <td>4</td>\n",
       "    </tr>\n",
       "  </tbody>\n",
       "</table>\n",
       "</div>"
      ],
      "text/plain": [
       "        course_name  duration\n",
       "0      Data Science         2\n",
       "1  Machine Learning         3\n",
       "2          Big Data         6\n",
       "3     Data Engineer         4"
      ]
     },
     "execution_count": 11,
     "metadata": {},
     "output_type": "execute_result"
    }
   ],
   "source": [
    "#printing df that we already have\n",
    "df"
   ]
  },
  {
   "cell_type": "code",
   "execution_count": 20,
   "id": "87b2b8c5-244a-466e-9e1e-b27fef49344f",
   "metadata": {},
   "outputs": [],
   "source": [
    "#reindexing our data frame\n",
    "new_df = df.reindex([3,0,1,2])"
   ]
  },
  {
   "cell_type": "code",
   "execution_count": 21,
   "id": "e47b95ce-9c24-4ec2-a908-f6139775ce0f",
   "metadata": {},
   "outputs": [
    {
     "data": {
      "text/html": [
       "<div>\n",
       "<style scoped>\n",
       "    .dataframe tbody tr th:only-of-type {\n",
       "        vertical-align: middle;\n",
       "    }\n",
       "\n",
       "    .dataframe tbody tr th {\n",
       "        vertical-align: top;\n",
       "    }\n",
       "\n",
       "    .dataframe thead th {\n",
       "        text-align: right;\n",
       "    }\n",
       "</style>\n",
       "<table border=\"1\" class=\"dataframe\">\n",
       "  <thead>\n",
       "    <tr style=\"text-align: right;\">\n",
       "      <th></th>\n",
       "      <th>course_name</th>\n",
       "      <th>duration</th>\n",
       "    </tr>\n",
       "  </thead>\n",
       "  <tbody>\n",
       "    <tr>\n",
       "      <th>3</th>\n",
       "      <td>Data Engineer</td>\n",
       "      <td>4</td>\n",
       "    </tr>\n",
       "    <tr>\n",
       "      <th>0</th>\n",
       "      <td>Data Science</td>\n",
       "      <td>2</td>\n",
       "    </tr>\n",
       "    <tr>\n",
       "      <th>1</th>\n",
       "      <td>Machine Learning</td>\n",
       "      <td>3</td>\n",
       "    </tr>\n",
       "    <tr>\n",
       "      <th>2</th>\n",
       "      <td>Big Data</td>\n",
       "      <td>6</td>\n",
       "    </tr>\n",
       "  </tbody>\n",
       "</table>\n",
       "</div>"
      ],
      "text/plain": [
       "        course_name  duration\n",
       "3     Data Engineer         4\n",
       "0      Data Science         2\n",
       "1  Machine Learning         3\n",
       "2          Big Data         6"
      ]
     },
     "execution_count": 21,
     "metadata": {},
     "output_type": "execute_result"
    }
   ],
   "source": [
    "new_df"
   ]
  },
  {
   "cell_type": "code",
   "execution_count": 22,
   "id": "d72339a2-b3ba-408d-abd2-ad4f1f87028b",
   "metadata": {},
   "outputs": [
    {
     "data": {
      "text/plain": [
       "course_name    Big Data\n",
       "duration              6\n",
       "Name: 2, dtype: object"
      ]
     },
     "execution_count": 22,
     "metadata": {},
     "output_type": "execute_result"
    }
   ],
   "source": [
    "new_df.loc[2]"
   ]
  },
  {
   "cell_type": "code",
   "execution_count": 23,
   "id": "de2a33cc-49d2-418d-ac5d-480c238235a1",
   "metadata": {},
   "outputs": [
    {
     "data": {
      "text/plain": [
       "course_name    Machine Learning\n",
       "duration                      3\n",
       "Name: 1, dtype: object"
      ]
     },
     "execution_count": 23,
     "metadata": {},
     "output_type": "execute_result"
    }
   ],
   "source": [
    "new_df.iloc[2]"
   ]
  },
  {
   "cell_type": "markdown",
   "id": "f5cabdb2-644e-4373-8191-dd403cf80c86",
   "metadata": {},
   "source": [
    "'''As like above question we see that difference here clearly and that is iloc takes the value 2 like\n",
    "an integerposition, so it prints machine learning which is in the 2-index position of given df.where as \n",
    "loc takes the label value'''"
   ]
  },
  {
   "cell_type": "code",
   "execution_count": 24,
   "id": "2c078f79-ddc9-4394-b78b-ef27b800775f",
   "metadata": {},
   "outputs": [],
   "source": [
    "#Consider the below code to answer further questions:\n",
    "import pandas as pd\n",
    "import numpy as np\n",
    "columns = ['column_1', 'column_2', 'column_3', 'column_4', 'column_5', 'column_6']\n",
    "indices = [1,2,3,4,5,6]\n",
    "#Creating a dataframe:\n",
    "df1 = pd.DataFrame(np.random.rand(6,6), columns = columns, index = indices)"
   ]
  },
  {
   "cell_type": "code",
   "execution_count": 25,
   "id": "2036b92b-5c52-4bb6-9c1a-9bef86634923",
   "metadata": {},
   "outputs": [
    {
     "data": {
      "text/html": [
       "<div>\n",
       "<style scoped>\n",
       "    .dataframe tbody tr th:only-of-type {\n",
       "        vertical-align: middle;\n",
       "    }\n",
       "\n",
       "    .dataframe tbody tr th {\n",
       "        vertical-align: top;\n",
       "    }\n",
       "\n",
       "    .dataframe thead th {\n",
       "        text-align: right;\n",
       "    }\n",
       "</style>\n",
       "<table border=\"1\" class=\"dataframe\">\n",
       "  <thead>\n",
       "    <tr style=\"text-align: right;\">\n",
       "      <th></th>\n",
       "      <th>column_1</th>\n",
       "      <th>column_2</th>\n",
       "      <th>column_3</th>\n",
       "      <th>column_4</th>\n",
       "      <th>column_5</th>\n",
       "      <th>column_6</th>\n",
       "    </tr>\n",
       "  </thead>\n",
       "  <tbody>\n",
       "    <tr>\n",
       "      <th>1</th>\n",
       "      <td>0.809353</td>\n",
       "      <td>0.572045</td>\n",
       "      <td>0.815263</td>\n",
       "      <td>0.333395</td>\n",
       "      <td>0.527701</td>\n",
       "      <td>0.241885</td>\n",
       "    </tr>\n",
       "    <tr>\n",
       "      <th>2</th>\n",
       "      <td>0.707878</td>\n",
       "      <td>0.061407</td>\n",
       "      <td>0.863435</td>\n",
       "      <td>0.096318</td>\n",
       "      <td>0.454040</td>\n",
       "      <td>0.245555</td>\n",
       "    </tr>\n",
       "    <tr>\n",
       "      <th>3</th>\n",
       "      <td>0.173679</td>\n",
       "      <td>0.753537</td>\n",
       "      <td>0.995889</td>\n",
       "      <td>0.368551</td>\n",
       "      <td>0.139437</td>\n",
       "      <td>0.688247</td>\n",
       "    </tr>\n",
       "    <tr>\n",
       "      <th>4</th>\n",
       "      <td>0.901609</td>\n",
       "      <td>0.240540</td>\n",
       "      <td>0.132144</td>\n",
       "      <td>0.351584</td>\n",
       "      <td>0.042772</td>\n",
       "      <td>0.346350</td>\n",
       "    </tr>\n",
       "    <tr>\n",
       "      <th>5</th>\n",
       "      <td>0.225081</td>\n",
       "      <td>0.836353</td>\n",
       "      <td>0.466129</td>\n",
       "      <td>0.835831</td>\n",
       "      <td>0.074914</td>\n",
       "      <td>0.232679</td>\n",
       "    </tr>\n",
       "    <tr>\n",
       "      <th>6</th>\n",
       "      <td>0.409468</td>\n",
       "      <td>0.996817</td>\n",
       "      <td>0.131314</td>\n",
       "      <td>0.637545</td>\n",
       "      <td>0.947120</td>\n",
       "      <td>0.782669</td>\n",
       "    </tr>\n",
       "  </tbody>\n",
       "</table>\n",
       "</div>"
      ],
      "text/plain": [
       "   column_1  column_2  column_3  column_4  column_5  column_6\n",
       "1  0.809353  0.572045  0.815263  0.333395  0.527701  0.241885\n",
       "2  0.707878  0.061407  0.863435  0.096318  0.454040  0.245555\n",
       "3  0.173679  0.753537  0.995889  0.368551  0.139437  0.688247\n",
       "4  0.901609  0.240540  0.132144  0.351584  0.042772  0.346350\n",
       "5  0.225081  0.836353  0.466129  0.835831  0.074914  0.232679\n",
       "6  0.409468  0.996817  0.131314  0.637545  0.947120  0.782669"
      ]
     },
     "execution_count": 25,
     "metadata": {},
     "output_type": "execute_result"
    }
   ],
   "source": [
    "df1"
   ]
  },
  {
   "cell_type": "code",
   "execution_count": 28,
   "id": "a620084a-9a66-4a5a-b580-01351ed9a1d2",
   "metadata": {},
   "outputs": [
    {
     "name": "stdout",
     "output_type": "stream",
     "text": [
      "...Mean of each and every column present in dataframe df1 is...\n"
     ]
    },
    {
     "data": {
      "text/plain": [
       "column_1    0.537845\n",
       "column_2    0.576783\n",
       "column_3    0.567362\n",
       "column_4    0.437204\n",
       "column_5    0.364331\n",
       "column_6    0.422897\n",
       "dtype: float64"
      ]
     },
     "execution_count": 28,
     "metadata": {},
     "output_type": "execute_result"
    }
   ],
   "source": [
    "'''Q4. Write a code to find the following statistical measurements for the above dataframe df1:\n",
    "(i) mean of each and every column present in the dataframe.\n",
    "(ii) standard deviation of column, ‘column_2’'''\n",
    "\n",
    "#Here we use the mathematical function mean to find the mean of given data\n",
    "#For claculating mean of particular value we should mention that particular column .\n",
    "#But here , we want to calculate each and every column \n",
    "#so,here we take directly as like df1.mean()\n",
    "print(\"...Mean of each and every column present in dataframe df1 is...\")\n",
    "df1.mean()"
   ]
  },
  {
   "cell_type": "code",
   "execution_count": 29,
   "id": "8d8f709b-08fc-4e4e-ba96-a858c61fec41",
   "metadata": {},
   "outputs": [
    {
     "name": "stdout",
     "output_type": "stream",
     "text": [
      "...Standard deviation of each and every column present in dataframe df2 is...\n"
     ]
    },
    {
     "data": {
      "text/plain": [
       "column_1    0.310442\n",
       "column_2    0.361591\n",
       "column_3    0.380145\n",
       "column_4    0.260024\n",
       "column_5    0.349891\n",
       "column_6    0.247428\n",
       "dtype: float64"
      ]
     },
     "execution_count": 29,
     "metadata": {},
     "output_type": "execute_result"
    }
   ],
   "source": [
    "#calculating standard deviation using pandas inbulit function std\n",
    "print(\"...Standard deviation of each and every column present in dataframe df2 is...\")\n",
    "df1.std()"
   ]
  },
  {
   "cell_type": "code",
   "execution_count": 30,
   "id": "5b89b350-e178-40ae-9789-651192c847f7",
   "metadata": {},
   "outputs": [
    {
     "data": {
      "text/html": [
       "<div>\n",
       "<style scoped>\n",
       "    .dataframe tbody tr th:only-of-type {\n",
       "        vertical-align: middle;\n",
       "    }\n",
       "\n",
       "    .dataframe tbody tr th {\n",
       "        vertical-align: top;\n",
       "    }\n",
       "\n",
       "    .dataframe thead th {\n",
       "        text-align: right;\n",
       "    }\n",
       "</style>\n",
       "<table border=\"1\" class=\"dataframe\">\n",
       "  <thead>\n",
       "    <tr style=\"text-align: right;\">\n",
       "      <th></th>\n",
       "      <th>column_1</th>\n",
       "      <th>column_2</th>\n",
       "      <th>column_3</th>\n",
       "      <th>column_4</th>\n",
       "      <th>column_5</th>\n",
       "      <th>column_6</th>\n",
       "    </tr>\n",
       "  </thead>\n",
       "  <tbody>\n",
       "    <tr>\n",
       "      <th>1</th>\n",
       "      <td>0.809353</td>\n",
       "      <td>0.572045</td>\n",
       "      <td>0.815263</td>\n",
       "      <td>0.333395</td>\n",
       "      <td>0.527701</td>\n",
       "      <td>0.241885</td>\n",
       "    </tr>\n",
       "    <tr>\n",
       "      <th>2</th>\n",
       "      <td>0.707878</td>\n",
       "      <td>0.061407</td>\n",
       "      <td>0.863435</td>\n",
       "      <td>0.096318</td>\n",
       "      <td>0.454040</td>\n",
       "      <td>0.245555</td>\n",
       "    </tr>\n",
       "    <tr>\n",
       "      <th>3</th>\n",
       "      <td>0.173679</td>\n",
       "      <td>0.753537</td>\n",
       "      <td>0.995889</td>\n",
       "      <td>0.368551</td>\n",
       "      <td>0.139437</td>\n",
       "      <td>0.688247</td>\n",
       "    </tr>\n",
       "    <tr>\n",
       "      <th>4</th>\n",
       "      <td>0.901609</td>\n",
       "      <td>0.240540</td>\n",
       "      <td>0.132144</td>\n",
       "      <td>0.351584</td>\n",
       "      <td>0.042772</td>\n",
       "      <td>0.346350</td>\n",
       "    </tr>\n",
       "    <tr>\n",
       "      <th>5</th>\n",
       "      <td>0.225081</td>\n",
       "      <td>0.836353</td>\n",
       "      <td>0.466129</td>\n",
       "      <td>0.835831</td>\n",
       "      <td>0.074914</td>\n",
       "      <td>0.232679</td>\n",
       "    </tr>\n",
       "    <tr>\n",
       "      <th>6</th>\n",
       "      <td>0.409468</td>\n",
       "      <td>0.996817</td>\n",
       "      <td>0.131314</td>\n",
       "      <td>0.637545</td>\n",
       "      <td>0.947120</td>\n",
       "      <td>0.782669</td>\n",
       "    </tr>\n",
       "  </tbody>\n",
       "</table>\n",
       "</div>"
      ],
      "text/plain": [
       "   column_1  column_2  column_3  column_4  column_5  column_6\n",
       "1  0.809353  0.572045  0.815263  0.333395  0.527701  0.241885\n",
       "2  0.707878  0.061407  0.863435  0.096318  0.454040  0.245555\n",
       "3  0.173679  0.753537  0.995889  0.368551  0.139437  0.688247\n",
       "4  0.901609  0.240540  0.132144  0.351584  0.042772  0.346350\n",
       "5  0.225081  0.836353  0.466129  0.835831  0.074914  0.232679\n",
       "6  0.409468  0.996817  0.131314  0.637545  0.947120  0.782669"
      ]
     },
     "execution_count": 30,
     "metadata": {},
     "output_type": "execute_result"
    }
   ],
   "source": [
    "'''Q5. Replace the data present in the second row of column, ‘column_2’ by a string variable then find the\n",
    "mean of column, column_2.\n",
    "If you are getting errors in executing it then explain why.\n",
    "[Hint: To replace the data use df1.loc[] and equate this to string data of your choice.]'''\n",
    "\n",
    "#taking dataframe which is given\n",
    "df1"
   ]
  },
  {
   "cell_type": "code",
   "execution_count": 35,
   "id": "1df2b989-2b28-41c4-96a5-4a7565a1c936",
   "metadata": {},
   "outputs": [],
   "source": [
    "#replacing second row of column by column_2 by a string variable\n",
    "#for this we are using loc function for choosing column place 2,anf for changing the partcular place we choose that partcualr\n",
    "#column also.Since we know loc works on both \n",
    "df1.loc[2,'column_2'] = \"DataScience\""
   ]
  },
  {
   "cell_type": "code",
   "execution_count": 36,
   "id": "3885961b-4f26-4dfe-a69d-444c80d5b0ab",
   "metadata": {},
   "outputs": [
    {
     "data": {
      "text/html": [
       "<div>\n",
       "<style scoped>\n",
       "    .dataframe tbody tr th:only-of-type {\n",
       "        vertical-align: middle;\n",
       "    }\n",
       "\n",
       "    .dataframe tbody tr th {\n",
       "        vertical-align: top;\n",
       "    }\n",
       "\n",
       "    .dataframe thead th {\n",
       "        text-align: right;\n",
       "    }\n",
       "</style>\n",
       "<table border=\"1\" class=\"dataframe\">\n",
       "  <thead>\n",
       "    <tr style=\"text-align: right;\">\n",
       "      <th></th>\n",
       "      <th>column_1</th>\n",
       "      <th>column_2</th>\n",
       "      <th>column_3</th>\n",
       "      <th>column_4</th>\n",
       "      <th>column_5</th>\n",
       "      <th>column_6</th>\n",
       "    </tr>\n",
       "  </thead>\n",
       "  <tbody>\n",
       "    <tr>\n",
       "      <th>1</th>\n",
       "      <td>0.809353</td>\n",
       "      <td>0.572045</td>\n",
       "      <td>0.815263</td>\n",
       "      <td>0.333395</td>\n",
       "      <td>0.527701</td>\n",
       "      <td>0.241885</td>\n",
       "    </tr>\n",
       "    <tr>\n",
       "      <th>2</th>\n",
       "      <td>0.707878</td>\n",
       "      <td>DataScience</td>\n",
       "      <td>0.863435</td>\n",
       "      <td>0.096318</td>\n",
       "      <td>0.454040</td>\n",
       "      <td>0.245555</td>\n",
       "    </tr>\n",
       "    <tr>\n",
       "      <th>3</th>\n",
       "      <td>0.173679</td>\n",
       "      <td>0.753537</td>\n",
       "      <td>0.995889</td>\n",
       "      <td>0.368551</td>\n",
       "      <td>0.139437</td>\n",
       "      <td>0.688247</td>\n",
       "    </tr>\n",
       "    <tr>\n",
       "      <th>4</th>\n",
       "      <td>0.901609</td>\n",
       "      <td>0.24054</td>\n",
       "      <td>0.132144</td>\n",
       "      <td>0.351584</td>\n",
       "      <td>0.042772</td>\n",
       "      <td>0.346350</td>\n",
       "    </tr>\n",
       "    <tr>\n",
       "      <th>5</th>\n",
       "      <td>0.225081</td>\n",
       "      <td>0.836353</td>\n",
       "      <td>0.466129</td>\n",
       "      <td>0.835831</td>\n",
       "      <td>0.074914</td>\n",
       "      <td>0.232679</td>\n",
       "    </tr>\n",
       "    <tr>\n",
       "      <th>6</th>\n",
       "      <td>0.409468</td>\n",
       "      <td>0.996817</td>\n",
       "      <td>0.131314</td>\n",
       "      <td>0.637545</td>\n",
       "      <td>0.947120</td>\n",
       "      <td>0.782669</td>\n",
       "    </tr>\n",
       "  </tbody>\n",
       "</table>\n",
       "</div>"
      ],
      "text/plain": [
       "   column_1     column_2  column_3  column_4  column_5  column_6\n",
       "1  0.809353     0.572045  0.815263  0.333395  0.527701  0.241885\n",
       "2  0.707878  DataScience  0.863435  0.096318  0.454040  0.245555\n",
       "3  0.173679     0.753537  0.995889  0.368551  0.139437  0.688247\n",
       "4  0.901609      0.24054  0.132144  0.351584  0.042772  0.346350\n",
       "5  0.225081     0.836353  0.466129  0.835831  0.074914  0.232679\n",
       "6  0.409468     0.996817  0.131314  0.637545  0.947120  0.782669"
      ]
     },
     "execution_count": 36,
     "metadata": {},
     "output_type": "execute_result"
    }
   ],
   "source": [
    "df1"
   ]
  },
  {
   "cell_type": "code",
   "execution_count": 38,
   "id": "6c22b753-1bd3-41a6-a62a-b880a3957827",
   "metadata": {},
   "outputs": [
    {
     "data": {
      "text/plain": [
       "0.5673622142365474"
      ]
     },
     "execution_count": 38,
     "metadata": {},
     "output_type": "execute_result"
    }
   ],
   "source": [
    "df1['column_3'].mean()"
   ]
  },
  {
   "cell_type": "code",
   "execution_count": 42,
   "id": "29dd0578-92f9-4025-a804-3c3217629cf5",
   "metadata": {},
   "outputs": [
    {
     "name": "stdout",
     "output_type": "stream",
     "text": [
      "Mean calculated between integer values only.So, you got an error because there is a string in between int values\n"
     ]
    }
   ],
   "source": [
    "try:\n",
    "    df1['column_2'].mean()\n",
    "except:\n",
    "    print(\"Mean calculated between integer values only.So, you got an error because there is a string in between int values\")"
   ]
  },
  {
   "cell_type": "code",
   "execution_count": 43,
   "id": "1d4759a9-79a4-436d-9629-7219c16e4f83",
   "metadata": {},
   "outputs": [
    {
     "data": {
      "text/plain": [
       "'Q6. What do you understand about the windows function in pandas and list the types of windows\\nfunctions?'"
      ]
     },
     "execution_count": 43,
     "metadata": {},
     "output_type": "execute_result"
    }
   ],
   "source": [
    "'''Q6. What do you understand about the windows function in pandas and list the types of windows\n",
    "functions?'''"
   ]
  },
  {
   "cell_type": "code",
   "execution_count": 45,
   "id": "43f4ef86-2296-4ae7-8a06-e5c3729ce5c8",
   "metadata": {},
   "outputs": [
    {
     "name": "stderr",
     "output_type": "stream",
     "text": [
      "/tmp/ipykernel_85/3365493846.py:2: FutureWarning: Dropping of nuisance columns in rolling operations is deprecated; in a future version this will raise TypeError. Select only valid columns before calling the operation. Dropped columns were Index(['column_2'], dtype='object')\n",
      "  df1.rolling(window=1).mean()\n"
     ]
    },
    {
     "data": {
      "text/html": [
       "<div>\n",
       "<style scoped>\n",
       "    .dataframe tbody tr th:only-of-type {\n",
       "        vertical-align: middle;\n",
       "    }\n",
       "\n",
       "    .dataframe tbody tr th {\n",
       "        vertical-align: top;\n",
       "    }\n",
       "\n",
       "    .dataframe thead th {\n",
       "        text-align: right;\n",
       "    }\n",
       "</style>\n",
       "<table border=\"1\" class=\"dataframe\">\n",
       "  <thead>\n",
       "    <tr style=\"text-align: right;\">\n",
       "      <th></th>\n",
       "      <th>column_1</th>\n",
       "      <th>column_3</th>\n",
       "      <th>column_4</th>\n",
       "      <th>column_5</th>\n",
       "      <th>column_6</th>\n",
       "    </tr>\n",
       "  </thead>\n",
       "  <tbody>\n",
       "    <tr>\n",
       "      <th>1</th>\n",
       "      <td>0.809353</td>\n",
       "      <td>0.815263</td>\n",
       "      <td>0.333395</td>\n",
       "      <td>0.527701</td>\n",
       "      <td>0.241885</td>\n",
       "    </tr>\n",
       "    <tr>\n",
       "      <th>2</th>\n",
       "      <td>0.707878</td>\n",
       "      <td>0.863435</td>\n",
       "      <td>0.096318</td>\n",
       "      <td>0.454040</td>\n",
       "      <td>0.245555</td>\n",
       "    </tr>\n",
       "    <tr>\n",
       "      <th>3</th>\n",
       "      <td>0.173679</td>\n",
       "      <td>0.995889</td>\n",
       "      <td>0.368551</td>\n",
       "      <td>0.139437</td>\n",
       "      <td>0.688247</td>\n",
       "    </tr>\n",
       "    <tr>\n",
       "      <th>4</th>\n",
       "      <td>0.901609</td>\n",
       "      <td>0.132144</td>\n",
       "      <td>0.351584</td>\n",
       "      <td>0.042772</td>\n",
       "      <td>0.346350</td>\n",
       "    </tr>\n",
       "    <tr>\n",
       "      <th>5</th>\n",
       "      <td>0.225081</td>\n",
       "      <td>0.466129</td>\n",
       "      <td>0.835831</td>\n",
       "      <td>0.074914</td>\n",
       "      <td>0.232679</td>\n",
       "    </tr>\n",
       "    <tr>\n",
       "      <th>6</th>\n",
       "      <td>0.409468</td>\n",
       "      <td>0.131314</td>\n",
       "      <td>0.637545</td>\n",
       "      <td>0.947120</td>\n",
       "      <td>0.782669</td>\n",
       "    </tr>\n",
       "  </tbody>\n",
       "</table>\n",
       "</div>"
      ],
      "text/plain": [
       "   column_1  column_3  column_4  column_5  column_6\n",
       "1  0.809353  0.815263  0.333395  0.527701  0.241885\n",
       "2  0.707878  0.863435  0.096318  0.454040  0.245555\n",
       "3  0.173679  0.995889  0.368551  0.139437  0.688247\n",
       "4  0.901609  0.132144  0.351584  0.042772  0.346350\n",
       "5  0.225081  0.466129  0.835831  0.074914  0.232679\n",
       "6  0.409468  0.131314  0.637545  0.947120  0.782669"
      ]
     },
     "execution_count": 45,
     "metadata": {},
     "output_type": "execute_result"
    }
   ],
   "source": [
    "'''Windows function is used to calculate analytical values over a range of values.'''\n",
    "df1.rolling(window=1).mean()\n",
    "#rolling helps to go from one label to another label\n",
    "#window=1 means having one data set for calculating mean"
   ]
  },
  {
   "cell_type": "code",
   "execution_count": 47,
   "id": "90683c70-eeaa-4093-b6bc-934707fee450",
   "metadata": {},
   "outputs": [
    {
     "name": "stderr",
     "output_type": "stream",
     "text": [
      "/tmp/ipykernel_85/3023045461.py:1: FutureWarning: Dropping of nuisance columns in rolling operations is deprecated; in a future version this will raise TypeError. Select only valid columns before calling the operation. Dropped columns were Index(['column_2'], dtype='object')\n",
      "  df1.rolling(window=2).mean()\n"
     ]
    },
    {
     "data": {
      "text/html": [
       "<div>\n",
       "<style scoped>\n",
       "    .dataframe tbody tr th:only-of-type {\n",
       "        vertical-align: middle;\n",
       "    }\n",
       "\n",
       "    .dataframe tbody tr th {\n",
       "        vertical-align: top;\n",
       "    }\n",
       "\n",
       "    .dataframe thead th {\n",
       "        text-align: right;\n",
       "    }\n",
       "</style>\n",
       "<table border=\"1\" class=\"dataframe\">\n",
       "  <thead>\n",
       "    <tr style=\"text-align: right;\">\n",
       "      <th></th>\n",
       "      <th>column_1</th>\n",
       "      <th>column_3</th>\n",
       "      <th>column_4</th>\n",
       "      <th>column_5</th>\n",
       "      <th>column_6</th>\n",
       "    </tr>\n",
       "  </thead>\n",
       "  <tbody>\n",
       "    <tr>\n",
       "      <th>1</th>\n",
       "      <td>NaN</td>\n",
       "      <td>NaN</td>\n",
       "      <td>NaN</td>\n",
       "      <td>NaN</td>\n",
       "      <td>NaN</td>\n",
       "    </tr>\n",
       "    <tr>\n",
       "      <th>2</th>\n",
       "      <td>0.758616</td>\n",
       "      <td>0.839349</td>\n",
       "      <td>0.214857</td>\n",
       "      <td>0.490871</td>\n",
       "      <td>0.243720</td>\n",
       "    </tr>\n",
       "    <tr>\n",
       "      <th>3</th>\n",
       "      <td>0.440779</td>\n",
       "      <td>0.929662</td>\n",
       "      <td>0.232435</td>\n",
       "      <td>0.296739</td>\n",
       "      <td>0.466901</td>\n",
       "    </tr>\n",
       "    <tr>\n",
       "      <th>4</th>\n",
       "      <td>0.537644</td>\n",
       "      <td>0.564016</td>\n",
       "      <td>0.360068</td>\n",
       "      <td>0.091105</td>\n",
       "      <td>0.517299</td>\n",
       "    </tr>\n",
       "    <tr>\n",
       "      <th>5</th>\n",
       "      <td>0.563345</td>\n",
       "      <td>0.299136</td>\n",
       "      <td>0.593708</td>\n",
       "      <td>0.058843</td>\n",
       "      <td>0.289515</td>\n",
       "    </tr>\n",
       "    <tr>\n",
       "      <th>6</th>\n",
       "      <td>0.317275</td>\n",
       "      <td>0.298721</td>\n",
       "      <td>0.736688</td>\n",
       "      <td>0.511017</td>\n",
       "      <td>0.507674</td>\n",
       "    </tr>\n",
       "  </tbody>\n",
       "</table>\n",
       "</div>"
      ],
      "text/plain": [
       "   column_1  column_3  column_4  column_5  column_6\n",
       "1       NaN       NaN       NaN       NaN       NaN\n",
       "2  0.758616  0.839349  0.214857  0.490871  0.243720\n",
       "3  0.440779  0.929662  0.232435  0.296739  0.466901\n",
       "4  0.537644  0.564016  0.360068  0.091105  0.517299\n",
       "5  0.563345  0.299136  0.593708  0.058843  0.289515\n",
       "6  0.317275  0.298721  0.736688  0.511017  0.507674"
      ]
     },
     "execution_count": 47,
     "metadata": {},
     "output_type": "execute_result"
    }
   ],
   "source": [
    "df1.rolling(window=2).mean()\n",
    "#window = 2 means having 2 data sets for mean i.e one itself and other is \n",
    "#previous one and then take the average of two.\n",
    "#firstly we have 1 and previous is no one so nan \n",
    "# after checking the values of 2 and 1"
   ]
  },
  {
   "cell_type": "code",
   "execution_count": 48,
   "id": "f4e17126-7ff5-4e1b-9955-ec4f2043a27f",
   "metadata": {},
   "outputs": [],
   "source": [
    "#Q7. Write a code to print only the current month and year at the time of answering this question.\n",
    "#[Hint: Use pandas.datetime function]\n",
    "\n",
    "#importing pandas module\n",
    "#importing date and time also\n",
    "import pandas as pd\n",
    "from datetime import datetime\n",
    "\n",
    "#taking current date\n",
    "currentDate = datetime.now()\n",
    "#executing current month year using strftime\n",
    "#The Strftime() function is used to convert date and time objects \n",
    "#to their string representation\n",
    "current_month_year = currentDate.strftime(\"%B%Y\")"
   ]
  },
  {
   "cell_type": "code",
   "execution_count": 51,
   "id": "031ba67a-796a-4485-9a25-dd0e1366a297",
   "metadata": {},
   "outputs": [
    {
     "name": "stdout",
     "output_type": "stream",
     "text": [
      "2024-01-23 03:06:24.059604\n"
     ]
    }
   ],
   "source": [
    "print(currentDate)"
   ]
  },
  {
   "cell_type": "code",
   "execution_count": 49,
   "id": "0bcd00df-5fb5-4ee4-8088-7e6e731c1f33",
   "metadata": {},
   "outputs": [
    {
     "name": "stdout",
     "output_type": "stream",
     "text": [
      "January2024\n"
     ]
    }
   ],
   "source": [
    "print(current_month_year)"
   ]
  },
  {
   "cell_type": "code",
   "execution_count": 52,
   "id": "411da4b3-3dd7-43d1-9ae8-751d8489539a",
   "metadata": {},
   "outputs": [],
   "source": [
    "'''Q8. Write a Python program that takes in two dates as input (in the format YYYY-MM-DD) and\n",
    "calculates the difference between them in days, hours, and minutes using Pandas time delta. The\n",
    "program should prompt the user to enter the dates and display the result.'''\n",
    "time = pd.Timedelta(days=1,hours = 5,minutes = 55)"
   ]
  },
  {
   "cell_type": "code",
   "execution_count": 53,
   "id": "43cb9db9-e291-486d-94af-ee9807cb5103",
   "metadata": {},
   "outputs": [],
   "source": [
    "df = pd.to_datetime(['2022-06-20','2022-06-21'])"
   ]
  },
  {
   "cell_type": "code",
   "execution_count": 55,
   "id": "7263e885-1ced-49bf-9432-6c1f4dd2aea3",
   "metadata": {},
   "outputs": [
    {
     "data": {
      "text/plain": [
       "DatetimeIndex(['2022-06-21 05:55:00', '2022-06-22 05:55:00'], dtype='datetime64[ns]', freq=None)"
      ]
     },
     "execution_count": 55,
     "metadata": {},
     "output_type": "execute_result"
    }
   ],
   "source": [
    "df+time"
   ]
  },
  {
   "cell_type": "code",
   "execution_count": null,
   "id": "2b73c8d6-5017-4eae-8502-b362a5429905",
   "metadata": {},
   "outputs": [],
   "source": [
    "'''Q11. You are given a CSV file containing student data that includes the student ID and their test score. Write\n",
    "a Python program that reads the CSV file, calculates the mean, median, and mode of the test scores, and\n",
    "displays the results in a table.\n",
    "\n",
    "The program should do the followingM\n",
    "I Prompt the user to enter the file path of the CSV file containing the student dataR\n",
    "I Read the CSV file into a Pandas DataFrameR\n",
    "I Calculate the mean, median, and mode of the test scores using Pandas toolsR\n",
    "I Display the mean, median, and mode in a table.\n",
    "Assume the CSV file contains the following columnsM\n",
    "I Student ID: The ID of the studentR\n",
    "I Test Score: The score of the student's test.\n",
    "Example usage of the program:\n",
    "Enter the file path of the CSV file containing the student data: student_data.csv\n",
    "\n",
    "Assume that the CSV file student_data.csv contains the following data:\n",
    "Student ID,Test Score\n",
    "1,85\n",
    "2,90\n",
    "3,80\n",
    "4,75\n",
    "5,85\n",
    "6,82\n",
    "7,78\n",
    "8,85\n",
    "9,90\n",
    "10,85'''"
   ]
  },
  {
   "cell_type": "code",
   "execution_count": 56,
   "id": "8923dd20-1ab4-43fa-8057-f5901bff21f9",
   "metadata": {},
   "outputs": [],
   "source": [
    "#importing pandas module\n",
    "#for reading csv files use\n",
    "#pd.read_csv(\"file path in form of csv\")\n",
    "import pandas as pd\n",
    "#taking data to calculate mean median and ,mode\n",
    "data = {\"Student ID\":[1,2,3,4,5,6,7,8,9,10],\"Test Score\":[85,90,80,75,85,82,78,85,90,85]}\n",
    "#creating dataframe\n",
    "df = pd.DataFrame(data)"
   ]
  },
  {
   "cell_type": "code",
   "execution_count": 57,
   "id": "2a4cb96b-860a-4454-8b3d-73e32e59d4af",
   "metadata": {},
   "outputs": [
    {
     "data": {
      "text/html": [
       "<div>\n",
       "<style scoped>\n",
       "    .dataframe tbody tr th:only-of-type {\n",
       "        vertical-align: middle;\n",
       "    }\n",
       "\n",
       "    .dataframe tbody tr th {\n",
       "        vertical-align: top;\n",
       "    }\n",
       "\n",
       "    .dataframe thead th {\n",
       "        text-align: right;\n",
       "    }\n",
       "</style>\n",
       "<table border=\"1\" class=\"dataframe\">\n",
       "  <thead>\n",
       "    <tr style=\"text-align: right;\">\n",
       "      <th></th>\n",
       "      <th>Student ID</th>\n",
       "      <th>Test Score</th>\n",
       "    </tr>\n",
       "  </thead>\n",
       "  <tbody>\n",
       "    <tr>\n",
       "      <th>0</th>\n",
       "      <td>1</td>\n",
       "      <td>85</td>\n",
       "    </tr>\n",
       "    <tr>\n",
       "      <th>1</th>\n",
       "      <td>2</td>\n",
       "      <td>90</td>\n",
       "    </tr>\n",
       "    <tr>\n",
       "      <th>2</th>\n",
       "      <td>3</td>\n",
       "      <td>80</td>\n",
       "    </tr>\n",
       "    <tr>\n",
       "      <th>3</th>\n",
       "      <td>4</td>\n",
       "      <td>75</td>\n",
       "    </tr>\n",
       "    <tr>\n",
       "      <th>4</th>\n",
       "      <td>5</td>\n",
       "      <td>85</td>\n",
       "    </tr>\n",
       "    <tr>\n",
       "      <th>5</th>\n",
       "      <td>6</td>\n",
       "      <td>82</td>\n",
       "    </tr>\n",
       "    <tr>\n",
       "      <th>6</th>\n",
       "      <td>7</td>\n",
       "      <td>78</td>\n",
       "    </tr>\n",
       "    <tr>\n",
       "      <th>7</th>\n",
       "      <td>8</td>\n",
       "      <td>85</td>\n",
       "    </tr>\n",
       "    <tr>\n",
       "      <th>8</th>\n",
       "      <td>9</td>\n",
       "      <td>90</td>\n",
       "    </tr>\n",
       "    <tr>\n",
       "      <th>9</th>\n",
       "      <td>10</td>\n",
       "      <td>85</td>\n",
       "    </tr>\n",
       "  </tbody>\n",
       "</table>\n",
       "</div>"
      ],
      "text/plain": [
       "   Student ID  Test Score\n",
       "0           1          85\n",
       "1           2          90\n",
       "2           3          80\n",
       "3           4          75\n",
       "4           5          85\n",
       "5           6          82\n",
       "6           7          78\n",
       "7           8          85\n",
       "8           9          90\n",
       "9          10          85"
      ]
     },
     "execution_count": 57,
     "metadata": {},
     "output_type": "execute_result"
    }
   ],
   "source": [
    "df"
   ]
  },
  {
   "cell_type": "code",
   "execution_count": 63,
   "id": "81e030a2-9399-4e81-a801-9a950893b5b6",
   "metadata": {},
   "outputs": [
    {
     "name": "stdout",
     "output_type": "stream",
     "text": [
      "Mean of testcore is: 83.5\n"
     ]
    }
   ],
   "source": [
    "#clacuting mean,median and mode for pandas dataframe using inbuilt functions\n",
    "x = df['Test Score'].mean()\n",
    "print(f\"Mean of testcore is: {x}\")"
   ]
  },
  {
   "cell_type": "code",
   "execution_count": 64,
   "id": "d3f5cfdd-68ba-4d10-a785-a9bc8da1d064",
   "metadata": {},
   "outputs": [
    {
     "name": "stdout",
     "output_type": "stream",
     "text": [
      "Median of testcore is: 85.0\n"
     ]
    }
   ],
   "source": [
    "y = df['Test Score'].median()\n",
    "print(f\"Median of testcore is: {y}\")"
   ]
  },
  {
   "cell_type": "code",
   "execution_count": 65,
   "id": "c29f633d-9f08-4dae-be62-4cfd09a4d88e",
   "metadata": {},
   "outputs": [
    {
     "name": "stdout",
     "output_type": "stream",
     "text": [
      "Mode of testcore is: 0    85\n",
      "Name: Test Score, dtype: int64\n"
     ]
    }
   ],
   "source": [
    "z = df['Test Score'].mode()\n",
    "print(f\"Mode of testcore is: {z}\")"
   ]
  },
  {
   "cell_type": "code",
   "execution_count": null,
   "id": "d02eb84f-3059-47a7-aa3c-ecf5a7492818",
   "metadata": {},
   "outputs": [],
   "source": []
  }
 ],
 "metadata": {
  "kernelspec": {
   "display_name": "Python 3 (ipykernel)",
   "language": "python",
   "name": "python3"
  },
  "language_info": {
   "codemirror_mode": {
    "name": "ipython",
    "version": 3
   },
   "file_extension": ".py",
   "mimetype": "text/x-python",
   "name": "python",
   "nbconvert_exporter": "python",
   "pygments_lexer": "ipython3",
   "version": "3.10.8"
  }
 },
 "nbformat": 4,
 "nbformat_minor": 5
}
